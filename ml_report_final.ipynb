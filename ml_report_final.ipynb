{
  "cells": [
    {
      "cell_type": "markdown",
      "metadata": {
        "id": "rRoFKTgnRG7i"
      },
      "source": [
        "### **1.  Training data (ChatGPT)**\n"
      ]
    },
    {
      "cell_type": "code",
      "source": [
        "from google.colab import drive\n",
        "drive.mount('/content/drive')"
      ],
      "metadata": {
        "colab": {
          "base_uri": "https://localhost:8080/"
        },
        "id": "tjS3YLecGZ71",
        "outputId": "5adc8520-bb8b-464d-8500-1a2cd4d3a8a6"
      },
      "execution_count": 1,
      "outputs": [
        {
          "output_type": "stream",
          "name": "stdout",
          "text": [
            "Mounted at /content/drive\n"
          ]
        }
      ]
    },
    {
      "cell_type": "code",
      "source": [
        "import pandas as pd\n",
        "import numpy as np\n",
        "import seaborn as sns\n",
        "import sklearn\n",
        "import matplotlib.pyplot as plt\n",
        "%matplotlib inline\n",
        "\n",
        "import nltk\n",
        "nltk.download('punkt')\n",
        "nltk.download('stopwords')\n",
        "nltk.download('wordnet')\n",
        "\n",
        "from nltk.stem import PorterStemmer, WordNetLemmatizer\n",
        "from nltk.tokenize import word_tokenize\n",
        "from nltk.corpus import stopwords\n",
        "import re\n",
        "\n",
        "from sklearn.feature_extraction.text import TfidfVectorizer\n",
        "from sklearn.model_selection import train_test_split\n",
        "\n",
        "from sklearn.naive_bayes import MultinomialNB\n",
        "from sklearn.ensemble import RandomForestClassifier\n",
        "from xgboost import XGBClassifier\n",
        "from sklearn.ensemble import VotingClassifier\n",
        "\n",
        "from sklearn.metrics import classification_report, confusion_matrix, ConfusionMatrixDisplay"
      ],
      "metadata": {
        "id": "VFsSrLaAGZ4Z",
        "colab": {
          "base_uri": "https://localhost:8080/"
        },
        "outputId": "3b300d82-d113-4c98-82fd-f47e3887738c"
      },
      "execution_count": 2,
      "outputs": [
        {
          "output_type": "stream",
          "name": "stderr",
          "text": [
            "[nltk_data] Downloading package punkt to /root/nltk_data...\n",
            "[nltk_data]   Unzipping tokenizers/punkt.zip.\n",
            "[nltk_data] Downloading package stopwords to /root/nltk_data...\n",
            "[nltk_data]   Unzipping corpora/stopwords.zip.\n",
            "[nltk_data] Downloading package wordnet to /root/nltk_data...\n"
          ]
        }
      ]
    },
    {
      "cell_type": "code",
      "source": [
        "gpt = pd.read_csv(\"gpt.csv\", encoding=\"utf-8\")\n",
        "gpt"
      ],
      "metadata": {
        "colab": {
          "base_uri": "https://localhost:8080/",
          "height": 424
        },
        "id": "tUcaJw6GF4GN",
        "outputId": "62715e56-2053-42a0-e3d9-e01f741a7359"
      },
      "execution_count": 3,
      "outputs": [
        {
          "output_type": "execute_result",
          "data": {
            "text/plain": [
              "                                                contents  star\n",
              "0      Love the new update! The interface is much mor...   5.0\n",
              "1            App keeps crashing after the recent update.   1.0\n",
              "2                       It's okay, but I've seen better.   3.0\n",
              "3      I don't know why everyone is complaining, work...   5.0\n",
              "4                               The ads are so annoying.   2.0\n",
              "...                                                  ...   ...\n",
              "24594           Horrible. I'm uninstalling it right now.   1.0\n",
              "24595         Didn't live up to the expectations at all.   1.0\n",
              "24596  The new update ruined everything. I liked the ...   2.0\n",
              "24597  It was okay initially, but now it's full of bugs.   2.0\n",
              "24598  I'm not too happy with the changes. Bring back...   2.0\n",
              "\n",
              "[24599 rows x 2 columns]"
            ],
            "text/html": [
              "\n",
              "  <div id=\"df-ef1ad64e-67f5-40c4-aa64-fcd92f9801b0\" class=\"colab-df-container\">\n",
              "    <div>\n",
              "<style scoped>\n",
              "    .dataframe tbody tr th:only-of-type {\n",
              "        vertical-align: middle;\n",
              "    }\n",
              "\n",
              "    .dataframe tbody tr th {\n",
              "        vertical-align: top;\n",
              "    }\n",
              "\n",
              "    .dataframe thead th {\n",
              "        text-align: right;\n",
              "    }\n",
              "</style>\n",
              "<table border=\"1\" class=\"dataframe\">\n",
              "  <thead>\n",
              "    <tr style=\"text-align: right;\">\n",
              "      <th></th>\n",
              "      <th>contents</th>\n",
              "      <th>star</th>\n",
              "    </tr>\n",
              "  </thead>\n",
              "  <tbody>\n",
              "    <tr>\n",
              "      <th>0</th>\n",
              "      <td>Love the new update! The interface is much mor...</td>\n",
              "      <td>5.0</td>\n",
              "    </tr>\n",
              "    <tr>\n",
              "      <th>1</th>\n",
              "      <td>App keeps crashing after the recent update.</td>\n",
              "      <td>1.0</td>\n",
              "    </tr>\n",
              "    <tr>\n",
              "      <th>2</th>\n",
              "      <td>It's okay, but I've seen better.</td>\n",
              "      <td>3.0</td>\n",
              "    </tr>\n",
              "    <tr>\n",
              "      <th>3</th>\n",
              "      <td>I don't know why everyone is complaining, work...</td>\n",
              "      <td>5.0</td>\n",
              "    </tr>\n",
              "    <tr>\n",
              "      <th>4</th>\n",
              "      <td>The ads are so annoying.</td>\n",
              "      <td>2.0</td>\n",
              "    </tr>\n",
              "    <tr>\n",
              "      <th>...</th>\n",
              "      <td>...</td>\n",
              "      <td>...</td>\n",
              "    </tr>\n",
              "    <tr>\n",
              "      <th>24594</th>\n",
              "      <td>Horrible. I'm uninstalling it right now.</td>\n",
              "      <td>1.0</td>\n",
              "    </tr>\n",
              "    <tr>\n",
              "      <th>24595</th>\n",
              "      <td>Didn't live up to the expectations at all.</td>\n",
              "      <td>1.0</td>\n",
              "    </tr>\n",
              "    <tr>\n",
              "      <th>24596</th>\n",
              "      <td>The new update ruined everything. I liked the ...</td>\n",
              "      <td>2.0</td>\n",
              "    </tr>\n",
              "    <tr>\n",
              "      <th>24597</th>\n",
              "      <td>It was okay initially, but now it's full of bugs.</td>\n",
              "      <td>2.0</td>\n",
              "    </tr>\n",
              "    <tr>\n",
              "      <th>24598</th>\n",
              "      <td>I'm not too happy with the changes. Bring back...</td>\n",
              "      <td>2.0</td>\n",
              "    </tr>\n",
              "  </tbody>\n",
              "</table>\n",
              "<p>24599 rows × 2 columns</p>\n",
              "</div>\n",
              "    <div class=\"colab-df-buttons\">\n",
              "\n",
              "  <div class=\"colab-df-container\">\n",
              "    <button class=\"colab-df-convert\" onclick=\"convertToInteractive('df-ef1ad64e-67f5-40c4-aa64-fcd92f9801b0')\"\n",
              "            title=\"Convert this dataframe to an interactive table.\"\n",
              "            style=\"display:none;\">\n",
              "\n",
              "  <svg xmlns=\"http://www.w3.org/2000/svg\" height=\"24px\" viewBox=\"0 -960 960 960\">\n",
              "    <path d=\"M120-120v-720h720v720H120Zm60-500h600v-160H180v160Zm220 220h160v-160H400v160Zm0 220h160v-160H400v160ZM180-400h160v-160H180v160Zm440 0h160v-160H620v160ZM180-180h160v-160H180v160Zm440 0h160v-160H620v160Z\"/>\n",
              "  </svg>\n",
              "    </button>\n",
              "\n",
              "  <style>\n",
              "    .colab-df-container {\n",
              "      display:flex;\n",
              "      gap: 12px;\n",
              "    }\n",
              "\n",
              "    .colab-df-convert {\n",
              "      background-color: #E8F0FE;\n",
              "      border: none;\n",
              "      border-radius: 50%;\n",
              "      cursor: pointer;\n",
              "      display: none;\n",
              "      fill: #1967D2;\n",
              "      height: 32px;\n",
              "      padding: 0 0 0 0;\n",
              "      width: 32px;\n",
              "    }\n",
              "\n",
              "    .colab-df-convert:hover {\n",
              "      background-color: #E2EBFA;\n",
              "      box-shadow: 0px 1px 2px rgba(60, 64, 67, 0.3), 0px 1px 3px 1px rgba(60, 64, 67, 0.15);\n",
              "      fill: #174EA6;\n",
              "    }\n",
              "\n",
              "    .colab-df-buttons div {\n",
              "      margin-bottom: 4px;\n",
              "    }\n",
              "\n",
              "    [theme=dark] .colab-df-convert {\n",
              "      background-color: #3B4455;\n",
              "      fill: #D2E3FC;\n",
              "    }\n",
              "\n",
              "    [theme=dark] .colab-df-convert:hover {\n",
              "      background-color: #434B5C;\n",
              "      box-shadow: 0px 1px 3px 1px rgba(0, 0, 0, 0.15);\n",
              "      filter: drop-shadow(0px 1px 2px rgba(0, 0, 0, 0.3));\n",
              "      fill: #FFFFFF;\n",
              "    }\n",
              "  </style>\n",
              "\n",
              "    <script>\n",
              "      const buttonEl =\n",
              "        document.querySelector('#df-ef1ad64e-67f5-40c4-aa64-fcd92f9801b0 button.colab-df-convert');\n",
              "      buttonEl.style.display =\n",
              "        google.colab.kernel.accessAllowed ? 'block' : 'none';\n",
              "\n",
              "      async function convertToInteractive(key) {\n",
              "        const element = document.querySelector('#df-ef1ad64e-67f5-40c4-aa64-fcd92f9801b0');\n",
              "        const dataTable =\n",
              "          await google.colab.kernel.invokeFunction('convertToInteractive',\n",
              "                                                    [key], {});\n",
              "        if (!dataTable) return;\n",
              "\n",
              "        const docLinkHtml = 'Like what you see? Visit the ' +\n",
              "          '<a target=\"_blank\" href=https://colab.research.google.com/notebooks/data_table.ipynb>data table notebook</a>'\n",
              "          + ' to learn more about interactive tables.';\n",
              "        element.innerHTML = '';\n",
              "        dataTable['output_type'] = 'display_data';\n",
              "        await google.colab.output.renderOutput(dataTable, element);\n",
              "        const docLink = document.createElement('div');\n",
              "        docLink.innerHTML = docLinkHtml;\n",
              "        element.appendChild(docLink);\n",
              "      }\n",
              "    </script>\n",
              "  </div>\n",
              "\n",
              "\n",
              "<div id=\"df-8af9701b-3fb7-4a50-accd-2249929b741d\">\n",
              "  <button class=\"colab-df-quickchart\" onclick=\"quickchart('df-8af9701b-3fb7-4a50-accd-2249929b741d')\"\n",
              "            title=\"Suggest charts.\"\n",
              "            style=\"display:none;\">\n",
              "\n",
              "<svg xmlns=\"http://www.w3.org/2000/svg\" height=\"24px\"viewBox=\"0 0 24 24\"\n",
              "     width=\"24px\">\n",
              "    <g>\n",
              "        <path d=\"M19 3H5c-1.1 0-2 .9-2 2v14c0 1.1.9 2 2 2h14c1.1 0 2-.9 2-2V5c0-1.1-.9-2-2-2zM9 17H7v-7h2v7zm4 0h-2V7h2v10zm4 0h-2v-4h2v4z\"/>\n",
              "    </g>\n",
              "</svg>\n",
              "  </button>\n",
              "\n",
              "<style>\n",
              "  .colab-df-quickchart {\n",
              "      --bg-color: #E8F0FE;\n",
              "      --fill-color: #1967D2;\n",
              "      --hover-bg-color: #E2EBFA;\n",
              "      --hover-fill-color: #174EA6;\n",
              "      --disabled-fill-color: #AAA;\n",
              "      --disabled-bg-color: #DDD;\n",
              "  }\n",
              "\n",
              "  [theme=dark] .colab-df-quickchart {\n",
              "      --bg-color: #3B4455;\n",
              "      --fill-color: #D2E3FC;\n",
              "      --hover-bg-color: #434B5C;\n",
              "      --hover-fill-color: #FFFFFF;\n",
              "      --disabled-bg-color: #3B4455;\n",
              "      --disabled-fill-color: #666;\n",
              "  }\n",
              "\n",
              "  .colab-df-quickchart {\n",
              "    background-color: var(--bg-color);\n",
              "    border: none;\n",
              "    border-radius: 50%;\n",
              "    cursor: pointer;\n",
              "    display: none;\n",
              "    fill: var(--fill-color);\n",
              "    height: 32px;\n",
              "    padding: 0;\n",
              "    width: 32px;\n",
              "  }\n",
              "\n",
              "  .colab-df-quickchart:hover {\n",
              "    background-color: var(--hover-bg-color);\n",
              "    box-shadow: 0 1px 2px rgba(60, 64, 67, 0.3), 0 1px 3px 1px rgba(60, 64, 67, 0.15);\n",
              "    fill: var(--button-hover-fill-color);\n",
              "  }\n",
              "\n",
              "  .colab-df-quickchart-complete:disabled,\n",
              "  .colab-df-quickchart-complete:disabled:hover {\n",
              "    background-color: var(--disabled-bg-color);\n",
              "    fill: var(--disabled-fill-color);\n",
              "    box-shadow: none;\n",
              "  }\n",
              "\n",
              "  .colab-df-spinner {\n",
              "    border: 2px solid var(--fill-color);\n",
              "    border-color: transparent;\n",
              "    border-bottom-color: var(--fill-color);\n",
              "    animation:\n",
              "      spin 1s steps(1) infinite;\n",
              "  }\n",
              "\n",
              "  @keyframes spin {\n",
              "    0% {\n",
              "      border-color: transparent;\n",
              "      border-bottom-color: var(--fill-color);\n",
              "      border-left-color: var(--fill-color);\n",
              "    }\n",
              "    20% {\n",
              "      border-color: transparent;\n",
              "      border-left-color: var(--fill-color);\n",
              "      border-top-color: var(--fill-color);\n",
              "    }\n",
              "    30% {\n",
              "      border-color: transparent;\n",
              "      border-left-color: var(--fill-color);\n",
              "      border-top-color: var(--fill-color);\n",
              "      border-right-color: var(--fill-color);\n",
              "    }\n",
              "    40% {\n",
              "      border-color: transparent;\n",
              "      border-right-color: var(--fill-color);\n",
              "      border-top-color: var(--fill-color);\n",
              "    }\n",
              "    60% {\n",
              "      border-color: transparent;\n",
              "      border-right-color: var(--fill-color);\n",
              "    }\n",
              "    80% {\n",
              "      border-color: transparent;\n",
              "      border-right-color: var(--fill-color);\n",
              "      border-bottom-color: var(--fill-color);\n",
              "    }\n",
              "    90% {\n",
              "      border-color: transparent;\n",
              "      border-bottom-color: var(--fill-color);\n",
              "    }\n",
              "  }\n",
              "</style>\n",
              "\n",
              "  <script>\n",
              "    async function quickchart(key) {\n",
              "      const quickchartButtonEl =\n",
              "        document.querySelector('#' + key + ' button');\n",
              "      quickchartButtonEl.disabled = true;  // To prevent multiple clicks.\n",
              "      quickchartButtonEl.classList.add('colab-df-spinner');\n",
              "      try {\n",
              "        const charts = await google.colab.kernel.invokeFunction(\n",
              "            'suggestCharts', [key], {});\n",
              "      } catch (error) {\n",
              "        console.error('Error during call to suggestCharts:', error);\n",
              "      }\n",
              "      quickchartButtonEl.classList.remove('colab-df-spinner');\n",
              "      quickchartButtonEl.classList.add('colab-df-quickchart-complete');\n",
              "    }\n",
              "    (() => {\n",
              "      let quickchartButtonEl =\n",
              "        document.querySelector('#df-8af9701b-3fb7-4a50-accd-2249929b741d button');\n",
              "      quickchartButtonEl.style.display =\n",
              "        google.colab.kernel.accessAllowed ? 'block' : 'none';\n",
              "    })();\n",
              "  </script>\n",
              "</div>\n",
              "    </div>\n",
              "  </div>\n"
            ]
          },
          "metadata": {},
          "execution_count": 3
        }
      ]
    },
    {
      "cell_type": "code",
      "source": [
        "gpt.drop_duplicates()\n",
        "gpt.reset_index(drop=True, inplace=True)"
      ],
      "metadata": {
        "id": "kD2Os-lsHhna"
      },
      "execution_count": 4,
      "outputs": []
    },
    {
      "cell_type": "code",
      "source": [
        "sns.countplot(x = \"star\", data = gpt, palette = \"Set3\")"
      ],
      "metadata": {
        "colab": {
          "base_uri": "https://localhost:8080/",
          "height": 470
        },
        "id": "h_x-2ybyJavg",
        "outputId": "666e4d5d-013d-4844-e2a0-679bbc495aaa"
      },
      "execution_count": 5,
      "outputs": [
        {
          "output_type": "execute_result",
          "data": {
            "text/plain": [
              "<Axes: xlabel='star', ylabel='count'>"
            ]
          },
          "metadata": {},
          "execution_count": 5
        },
        {
          "output_type": "display_data",
          "data": {
            "text/plain": [
              "<Figure size 640x480 with 1 Axes>"
            ],
            "image/png": "[encoded data removed]"
          },
          "metadata": {}
        }
      ]
    },
    {
      "cell_type": "code",
      "source": [
        "gpt['star'] = gpt['star'].replace(1, 0)\n",
        "gpt['star'] = gpt['star'].replace(2, 0)\n",
        "gpt['star'] = gpt['star'].replace(3, 99)\n",
        "gpt['star'] = gpt['star'].replace(4, 1)\n",
        "gpt['star'] = gpt['star'].replace(5, 1)\n",
        "\n",
        "one = gpt.loc[gpt['star'] == 0]\n",
        "two = gpt.loc[gpt['star'] == 1]\n",
        "\n",
        "gpt_data = pd.concat([one, two])\n",
        "gpt_data = gpt_data.iloc[:,0:2]\n",
        "\n",
        "gpt_data.to_csv('gpt_data.csv', header=['contents', 'star'], index=None)\n",
        "gpt_data.index = range(len(gpt_data))\n",
        "gpt_data = sklearn.utils.shuffle(gpt_data).reset_index(drop=True)\n",
        "gpt_data"
      ],
      "metadata": {
        "id": "kpV1iE0LK5GJ",
        "colab": {
          "base_uri": "https://localhost:8080/",
          "height": 424
        },
        "outputId": "4590911f-28f9-4d37-b4de-b4f546794d3a"
      },
      "execution_count": 6,
      "outputs": [
        {
          "output_type": "execute_result",
          "data": {
            "text/plain": [
              "                                                contents  star\n",
              "0      Regular updates show a commitment to user sati...   1.0\n",
              "1                                   Unbeatable platform!   1.0\n",
              "2      Paid for a movie, but it stopped playing halfw...   0.0\n",
              "3              App navigation feels clunky and outdated.   0.0\n",
              "4      Customization options for playlists and recomm...   1.0\n",
              "...                                                  ...   ...\n",
              "20629  Graphics and animations are impressive. Well d...   1.0\n",
              "20630  Search results are often unrelated to the keyw...   0.0\n",
              "20631             Total rip-off! Don't waste your money.   0.0\n",
              "20632  Recently, the app crashes whenever I try to wa...   0.0\n",
              "20633  I was billed after I canceled my subscription....   1.0\n",
              "\n",
              "[20634 rows x 2 columns]"
            ],
            "text/html": [
              "\n",
              "  <div id=\"df-7ebb3ebd-22e4-4119-9077-7f3aa86fed19\" class=\"colab-df-container\">\n",
              "    <div>\n",
              "<style scoped>\n",
              "    .dataframe tbody tr th:only-of-type {\n",
              "        vertical-align: middle;\n",
              "    }\n",
              "\n",
              "    .dataframe tbody tr th {\n",
              "        vertical-align: top;\n",
              "    }\n",
              "\n",
              "    .dataframe thead th {\n",
              "        text-align: right;\n",
              "    }\n",
              "</style>\n",
              "<table border=\"1\" class=\"dataframe\">\n",
              "  <thead>\n",
              "    <tr style=\"text-align: right;\">\n",
              "      <th></th>\n",
              "      <th>contents</th>\n",
              "      <th>star</th>\n",
              "    </tr>\n",
              "  </thead>\n",
              "  <tbody>\n",
              "    <tr>\n",
              "      <th>0</th>\n",
              "      <td>Regular updates show a commitment to user sati...</td>\n",
              "      <td>1.0</td>\n",
              "    </tr>\n",
              "    <tr>\n",
              "      <th>1</th>\n",
              "      <td>Unbeatable platform!</td>\n",
              "      <td>1.0</td>\n",
              "    </tr>\n",
              "    <tr>\n",
              "      <th>2</th>\n",
              "      <td>Paid for a movie, but it stopped playing halfw...</td>\n",
              "      <td>0.0</td>\n",
              "    </tr>\n",
              "    <tr>\n",
              "      <th>3</th>\n",
              "      <td>App navigation feels clunky and outdated.</td>\n",
              "      <td>0.0</td>\n",
              "    </tr>\n",
              "    <tr>\n",
              "      <th>4</th>\n",
              "      <td>Customization options for playlists and recomm...</td>\n",
              "      <td>1.0</td>\n",
              "    </tr>\n",
              "    <tr>\n",
              "      <th>...</th>\n",
              "      <td>...</td>\n",
              "      <td>...</td>\n",
              "    </tr>\n",
              "    <tr>\n",
              "      <th>20629</th>\n",
              "      <td>Graphics and animations are impressive. Well d...</td>\n",
              "      <td>1.0</td>\n",
              "    </tr>\n",
              "    <tr>\n",
              "      <th>20630</th>\n",
              "      <td>Search results are often unrelated to the keyw...</td>\n",
              "      <td>0.0</td>\n",
              "    </tr>\n",
              "    <tr>\n",
              "      <th>20631</th>\n",
              "      <td>Total rip-off! Don't waste your money.</td>\n",
              "      <td>0.0</td>\n",
              "    </tr>\n",
              "    <tr>\n",
              "      <th>20632</th>\n",
              "      <td>Recently, the app crashes whenever I try to wa...</td>\n",
              "      <td>0.0</td>\n",
              "    </tr>\n",
              "    <tr>\n",
              "      <th>20633</th>\n",
              "      <td>I was billed after I canceled my subscription....</td>\n",
              "      <td>1.0</td>\n",
              "    </tr>\n",
              "  </tbody>\n",
              "</table>\n",
              "<p>20634 rows × 2 columns</p>\n",
              "</div>\n",
              "    <div class=\"colab-df-buttons\">\n",
              "\n",
              "  <div class=\"colab-df-container\">\n",
              "    <button class=\"colab-df-convert\" onclick=\"convertToInteractive('df-7ebb3ebd-22e4-4119-9077-7f3aa86fed19')\"\n",
              "            title=\"Convert this dataframe to an interactive table.\"\n",
              "            style=\"display:none;\">\n",
              "\n",
              "  <svg xmlns=\"http://www.w3.org/2000/svg\" height=\"24px\" viewBox=\"0 -960 960 960\">\n",
              "    <path d=\"M120-120v-720h720v720H120Zm60-500h600v-160H180v160Zm220 220h160v-160H400v160Zm0 220h160v-160H400v160ZM180-400h160v-160H180v160Zm440 0h160v-160H620v160ZM180-180h160v-160H180v160Zm440 0h160v-160H620v160Z\"/>\n",
              "  </svg>\n",
              "    </button>\n",
              "\n",
              "  <style>\n",
              "    .colab-df-container {\n",
              "      display:flex;\n",
              "      gap: 12px;\n",
              "    }\n",
              "\n",
              "    .colab-df-convert {\n",
              "      background-color: #E8F0FE;\n",
              "      border: none;\n",
              "      border-radius: 50%;\n",
              "      cursor: pointer;\n",
              "      display: none;\n",
              "      fill: #1967D2;\n",
              "      height: 32px;\n",
              "      padding: 0 0 0 0;\n",
              "      width: 32px;\n",
              "    }\n",
              "\n",
              "    .colab-df-convert:hover {\n",
              "      background-color: #E2EBFA;\n",
              "      box-shadow: 0px 1px 2px rgba(60, 64, 67, 0.3), 0px 1px 3px 1px rgba(60, 64, 67, 0.15);\n",
              "      fill: #174EA6;\n",
              "    }\n",
              "\n",
              "    .colab-df-buttons div {\n",
              "      margin-bottom: 4px;\n",
              "    }\n",
              "\n",
              "    [theme=dark] .colab-df-convert {\n",
              "      background-color: #3B4455;\n",
              "      fill: #D2E3FC;\n",
              "    }\n",
              "\n",
              "    [theme=dark] .colab-df-convert:hover {\n",
              "      background-color: #434B5C;\n",
              "      box-shadow: 0px 1px 3px 1px rgba(0, 0, 0, 0.15);\n",
              "      filter: drop-shadow(0px 1px 2px rgba(0, 0, 0, 0.3));\n",
              "      fill: #FFFFFF;\n",
              "    }\n",
              "  </style>\n",
              "\n",
              "    <script>\n",
              "      const buttonEl =\n",
              "        document.querySelector('#df-7ebb3ebd-22e4-4119-9077-7f3aa86fed19 button.colab-df-convert');\n",
              "      buttonEl.style.display =\n",
              "        google.colab.kernel.accessAllowed ? 'block' : 'none';\n",
              "\n",
              "      async function convertToInteractive(key) {\n",
              "        const element = document.querySelector('#df-7ebb3ebd-22e4-4119-9077-7f3aa86fed19');\n",
              "        const dataTable =\n",
              "          await google.colab.kernel.invokeFunction('convertToInteractive',\n",
              "                                                    [key], {});\n",
              "        if (!dataTable) return;\n",
              "\n",
              "        const docLinkHtml = 'Like what you see? Visit the ' +\n",
              "          '<a target=\"_blank\" href=https://colab.research.google.com/notebooks/data_table.ipynb>data table notebook</a>'\n",
              "          + ' to learn more about interactive tables.';\n",
              "        element.innerHTML = '';\n",
              "        dataTable['output_type'] = 'display_data';\n",
              "        await google.colab.output.renderOutput(dataTable, element);\n",
              "        const docLink = document.createElement('div');\n",
              "        docLink.innerHTML = docLinkHtml;\n",
              "        element.appendChild(docLink);\n",
              "      }\n",
              "    </script>\n",
              "  </div>\n",
              "\n",
              "\n",
              "<div id=\"df-d9a3267f-79c1-4a8a-ae64-dc2c3c636b1d\">\n",
              "  <button class=\"colab-df-quickchart\" onclick=\"quickchart('df-d9a3267f-79c1-4a8a-ae64-dc2c3c636b1d')\"\n",
              "            title=\"Suggest charts.\"\n",
              "            style=\"display:none;\">\n",
              "\n",
              "<svg xmlns=\"http://www.w3.org/2000/svg\" height=\"24px\"viewBox=\"0 0 24 24\"\n",
              "     width=\"24px\">\n",
              "    <g>\n",
              "        <path d=\"M19 3H5c-1.1 0-2 .9-2 2v14c0 1.1.9 2 2 2h14c1.1 0 2-.9 2-2V5c0-1.1-.9-2-2-2zM9 17H7v-7h2v7zm4 0h-2V7h2v10zm4 0h-2v-4h2v4z\"/>\n",
              "    </g>\n",
              "</svg>\n",
              "  </button>\n",
              "\n",
              "<style>\n",
              "  .colab-df-quickchart {\n",
              "      --bg-color: #E8F0FE;\n",
              "      --fill-color: #1967D2;\n",
              "      --hover-bg-color: #E2EBFA;\n",
              "      --hover-fill-color: #174EA6;\n",
              "      --disabled-fill-color: #AAA;\n",
              "      --disabled-bg-color: #DDD;\n",
              "  }\n",
              "\n",
              "  [theme=dark] .colab-df-quickchart {\n",
              "      --bg-color: #3B4455;\n",
              "      --fill-color: #D2E3FC;\n",
              "      --hover-bg-color: #434B5C;\n",
              "      --hover-fill-color: #FFFFFF;\n",
              "      --disabled-bg-color: #3B4455;\n",
              "      --disabled-fill-color: #666;\n",
              "  }\n",
              "\n",
              "  .colab-df-quickchart {\n",
              "    background-color: var(--bg-color);\n",
              "    border: none;\n",
              "    border-radius: 50%;\n",
              "    cursor: pointer;\n",
              "    display: none;\n",
              "    fill: var(--fill-color);\n",
              "    height: 32px;\n",
              "    padding: 0;\n",
              "    width: 32px;\n",
              "  }\n",
              "\n",
              "  .colab-df-quickchart:hover {\n",
              "    background-color: var(--hover-bg-color);\n",
              "    box-shadow: 0 1px 2px rgba(60, 64, 67, 0.3), 0 1px 3px 1px rgba(60, 64, 67, 0.15);\n",
              "    fill: var(--button-hover-fill-color);\n",
              "  }\n",
              "\n",
              "  .colab-df-quickchart-complete:disabled,\n",
              "  .colab-df-quickchart-complete:disabled:hover {\n",
              "    background-color: var(--disabled-bg-color);\n",
              "    fill: var(--disabled-fill-color);\n",
              "    box-shadow: none;\n",
              "  }\n",
              "\n",
              "  .colab-df-spinner {\n",
              "    border: 2px solid var(--fill-color);\n",
              "    border-color: transparent;\n",
              "    border-bottom-color: var(--fill-color);\n",
              "    animation:\n",
              "      spin 1s steps(1) infinite;\n",
              "  }\n",
              "\n",
              "  @keyframes spin {\n",
              "    0% {\n",
              "      border-color: transparent;\n",
              "      border-bottom-color: var(--fill-color);\n",
              "      border-left-color: var(--fill-color);\n",
              "    }\n",
              "    20% {\n",
              "      border-color: transparent;\n",
              "      border-left-color: var(--fill-color);\n",
              "      border-top-color: var(--fill-color);\n",
              "    }\n",
              "    30% {\n",
              "      border-color: transparent;\n",
              "      border-left-color: var(--fill-color);\n",
              "      border-top-color: var(--fill-color);\n",
              "      border-right-color: var(--fill-color);\n",
              "    }\n",
              "    40% {\n",
              "      border-color: transparent;\n",
              "      border-right-color: var(--fill-color);\n",
              "      border-top-color: var(--fill-color);\n",
              "    }\n",
              "    60% {\n",
              "      border-color: transparent;\n",
              "      border-right-color: var(--fill-color);\n",
              "    }\n",
              "    80% {\n",
              "      border-color: transparent;\n",
              "      border-right-color: var(--fill-color);\n",
              "      border-bottom-color: var(--fill-color);\n",
              "    }\n",
              "    90% {\n",
              "      border-color: transparent;\n",
              "      border-bottom-color: var(--fill-color);\n",
              "    }\n",
              "  }\n",
              "</style>\n",
              "\n",
              "  <script>\n",
              "    async function quickchart(key) {\n",
              "      const quickchartButtonEl =\n",
              "        document.querySelector('#' + key + ' button');\n",
              "      quickchartButtonEl.disabled = true;  // To prevent multiple clicks.\n",
              "      quickchartButtonEl.classList.add('colab-df-spinner');\n",
              "      try {\n",
              "        const charts = await google.colab.kernel.invokeFunction(\n",
              "            'suggestCharts', [key], {});\n",
              "      } catch (error) {\n",
              "        console.error('Error during call to suggestCharts:', error);\n",
              "      }\n",
              "      quickchartButtonEl.classList.remove('colab-df-spinner');\n",
              "      quickchartButtonEl.classList.add('colab-df-quickchart-complete');\n",
              "    }\n",
              "    (() => {\n",
              "      let quickchartButtonEl =\n",
              "        document.querySelector('#df-d9a3267f-79c1-4a8a-ae64-dc2c3c636b1d button');\n",
              "      quickchartButtonEl.style.display =\n",
              "        google.colab.kernel.accessAllowed ? 'block' : 'none';\n",
              "    })();\n",
              "  </script>\n",
              "</div>\n",
              "    </div>\n",
              "  </div>\n"
            ]
          },
          "metadata": {},
          "execution_count": 6
        }
      ]
    },
    {
      "cell_type": "code",
      "source": [
        "sns.countplot(x=\"star\", data=gpt_data, palette=\"Set3\")"
      ],
      "metadata": {
        "colab": {
          "base_uri": "https://localhost:8080/",
          "height": 467
        },
        "id": "FlagB2d7MUYt",
        "outputId": "b6068f5a-8406-45f4-c1ad-62582d0e4ed0"
      },
      "execution_count": 7,
      "outputs": [
        {
          "output_type": "execute_result",
          "data": {
            "text/plain": [
              "<Axes: xlabel='star', ylabel='count'>"
            ]
          },
          "metadata": {},
          "execution_count": 7
        },
        {
          "output_type": "display_data",
          "data": {
            "text/plain": [
              "<Figure size 640x480 with 1 Axes>"
            ],
            "image/png": "[encoded data removed]"
          },
          "metadata": {}
        }
      ]
    },
    {
      "cell_type": "markdown",
      "source": [
        "### **2. Training model**"
      ],
      "metadata": {
        "id": "yNZZotfVKxCl"
      }
    },
    {
      "cell_type": "code",
      "source": [
        "stopwords_object = stopwords.words('english')\n",
        "\n",
        "def preprocessing_text(data):\n",
        "    if type(data) is float:\n",
        "      data = str(data);\n",
        "\n",
        "    data = data.lower()\n",
        "    data = re.sub(\"[^a-zA-Z]\",\" \", data)\n",
        "\n",
        "    tokens = word_tokenize(data)\n",
        "    word_tokens = [w for w in tokens if w not in stopwords_object]\n",
        "\n",
        "\n",
        "    stemmer = PorterStemmer()\n",
        "    stem_words = [stemmer.stem(w) for w in word_tokens]\n",
        "\n",
        "\n",
        "    lemmer = WordNetLemmatizer()\n",
        "    lem_words = [lemmer.lemmatize(w) for w in stem_words]\n",
        "\n",
        "    return \" \".join(lem_words)"
      ],
      "metadata": {
        "id": "tP93zWZiPooh"
      },
      "execution_count": 8,
      "outputs": []
    },
    {
      "cell_type": "code",
      "source": [
        "gpt_data['contents'] = gpt_data['contents'].apply(preprocessing_text)"
      ],
      "metadata": {
        "id": "fynmOwQSRCS3"
      },
      "execution_count": 9,
      "outputs": []
    },
    {
      "cell_type": "code",
      "source": [
        "tfidf = TfidfVectorizer()"
      ],
      "metadata": {
        "id": "YvCzoZIHN8_R"
      },
      "execution_count": 10,
      "outputs": []
    },
    {
      "cell_type": "code",
      "source": [
        "X = gpt_data['contents']\n",
        "y = gpt_data['star']\n",
        "\n",
        "X_train, X_test, y_train, y_test = train_test_split(X,y, test_size = 0.2, random_state=42)"
      ],
      "metadata": {
        "id": "yWnVT0uqQpvK"
      },
      "execution_count": 11,
      "outputs": []
    },
    {
      "cell_type": "code",
      "source": [
        "X_train = tfidf.fit_transform(X_train)"
      ],
      "metadata": {
        "id": "TmAaHCInN85y"
      },
      "execution_count": 12,
      "outputs": []
    },
    {
      "cell_type": "code",
      "source": [
        "X_test = tfidf.transform(X_test)"
      ],
      "metadata": {
        "id": "JPnJt-ygRNx_"
      },
      "execution_count": 13,
      "outputs": []
    },
    {
      "cell_type": "markdown",
      "source": [
        "**1) Naive Bayes**"
      ],
      "metadata": {
        "id": "vMt-QPmsT-gF"
      }
    },
    {
      "cell_type": "code",
      "source": [
        "nb = MultinomialNB()\n",
        "nb.fit(X_train, y_train)\n",
        "\n",
        "y_nb_train_pred = nb.predict(X_train)\n",
        "y_nb_pred = nb.predict(X_test)\n",
        "\n",
        "print(\"Training accuracy : \", nb.score(X_train, y_train))\n",
        "print(\"Testing accuracy : \", nb.score(X_test, y_test))\n",
        "matrix_nb = ConfusionMatrixDisplay(confusion_matrix(y_train, y_nb_train_pred), display_labels=nb.classes_)\n",
        "matrix_nb2= ConfusionMatrixDisplay(confusion_matrix(y_test, y_nb_pred), display_labels=nb.classes_)\n",
        "matrix_nb.plot()\n",
        "plt.show()\n",
        "matrix_nb2.plot()\n",
        "plt.show()"
      ],
      "metadata": {
        "colab": {
          "base_uri": "https://localhost:8080/",
          "height": 918
        },
        "id": "VLKJCw3DN824",
        "outputId": "24af32bf-cd9f-4142-f900-78f45de83ec8"
      },
      "execution_count": 14,
      "outputs": [
        {
          "output_type": "stream",
          "name": "stdout",
          "text": [
            "Training accuracy :  0.9317259344520507\n",
            "Testing accuracy :  0.9205233826023747\n"
          ]
        },
        {
          "output_type": "display_data",
          "data": {
            "text/plain": [
              "<Figure size 640x480 with 2 Axes>"
            ],
            "image/png": "[encoded data removed]"
          },
          "metadata": {}
        },
        {
          "output_type": "display_data",
          "data": {
            "text/plain": [
              "<Figure size 640x480 with 2 Axes>"
            ],
            "image/png": "[encoded data removed]"
          },
          "metadata": {}
        }
      ]
    },
    {
      "cell_type": "markdown",
      "source": [
        "**2) RandomForest**"
      ],
      "metadata": {
        "id": "MdKa3Z3UUSuD"
      }
    },
    {
      "cell_type": "code",
      "source": [
        "rf = RandomForestClassifier()\n",
        "rf.fit(X_train, y_train)\n",
        "\n",
        "y_rf_train_pred = rf.predict(X_train)\n",
        "y_rf_pred = rf.predict(X_test)\n",
        "\n",
        "print(\"Training accuracy : \", rf.score(X_train, y_train))\n",
        "print(\"Testing accuracy : \", rf.score(X_test, y_test))\n",
        "matrix_rf = ConfusionMatrixDisplay(confusion_matrix(y_train, y_rf_train_pred), display_labels=rf.classes_)\n",
        "matrix_rf2= ConfusionMatrixDisplay(confusion_matrix(y_test, y_rf_pred), display_labels=rf.classes_)\n",
        "matrix_rf.plot()\n",
        "plt.show()\n",
        "matrix_rf2.plot()\n",
        "plt.show()"
      ],
      "metadata": {
        "colab": {
          "base_uri": "https://localhost:8080/",
          "height": 918
        },
        "id": "o83sir2vN8zw",
        "outputId": "c3cddb55-c658-48d8-8a7b-b29d0759d338"
      },
      "execution_count": 15,
      "outputs": [
        {
          "output_type": "stream",
          "name": "stdout",
          "text": [
            "Training accuracy :  0.9977585266856485\n",
            "Testing accuracy :  0.9275502786527744\n"
          ]
        },
        {
          "output_type": "display_data",
          "data": {
            "text/plain": [
              "<Figure size 640x480 with 2 Axes>"
            ],
            "image/png": "[encoded data removed]"
          },
          "metadata": {}
        },
        {
          "output_type": "display_data",
          "data": {
            "text/plain": [
              "<Figure size 640x480 with 2 Axes>"
            ],
            "image/png": "[encoded data removed]"
          },
          "metadata": {}
        }
      ]
    },
    {
      "cell_type": "markdown",
      "source": [
        "**3) XGBoost**"
      ],
      "metadata": {
        "id": "Z8nhXs8HU-ez"
      }
    },
    {
      "cell_type": "code",
      "source": [
        "xgb = XGBClassifier()\n",
        "xgb.fit(X_train, y_train)\n",
        "\n",
        "y_xgb_train_pred = xgb.predict(X_train)\n",
        "y_xgb_pred = xgb.predict(X_test)\n",
        "\n",
        "print(\"Training accuracy : \", xgb.score(X_train, y_train))\n",
        "print(\"Testing accuracy : \", xgb.score(X_test, y_test))\n",
        "matrix_xgb = ConfusionMatrixDisplay(confusion_matrix(y_train, y_xgb_train_pred), display_labels=xgb.classes_)\n",
        "matrix_xgb2= ConfusionMatrixDisplay(confusion_matrix(y_test, y_xgb_pred), display_labels=xgb.classes_)\n",
        "matrix_xgb.plot()\n",
        "plt.show()\n",
        "matrix_xgb2.plot()\n",
        "plt.show()"
      ],
      "metadata": {
        "colab": {
          "base_uri": "https://localhost:8080/",
          "height": 918
        },
        "id": "KtHnhrXDN8w1",
        "outputId": "f13fe0b5-f614-43d1-bdd7-fcca5aa905c7"
      },
      "execution_count": 16,
      "outputs": [
        {
          "output_type": "stream",
          "name": "stdout",
          "text": [
            "Training accuracy :  0.9283334343005998\n",
            "Testing accuracy :  0.9006542282529683\n"
          ]
        },
        {
          "output_type": "display_data",
          "data": {
            "text/plain": [
              "<Figure size 640x480 with 2 Axes>"
            ],
            "image/png": "[encoded data removed]"
          },
          "metadata": {}
        },
        {
          "output_type": "display_data",
          "data": {
            "text/plain": [
              "<Figure size 640x480 with 2 Axes>"
            ],
            "image/png": "[encoded data removed]"
          },
          "metadata": {}
        }
      ]
    },
    {
      "cell_type": "markdown",
      "source": [
        "**4) Voting**"
      ],
      "metadata": {
        "id": "KO2nfdbCVAwm"
      }
    },
    {
      "cell_type": "code",
      "source": [
        "from sklearn.ensemble import VotingClassifier\n",
        "ensemble = VotingClassifier(estimators=[('nb', nb), ('rf', rf), ('xgb', xgb)], voting='soft')\n",
        "ensemble.fit(X_train, y_train)\n",
        "\n",
        "ensemble_train_pred = ensemble.predict(X_train)\n",
        "ensemble_pred = ensemble.predict(X_test)\n",
        "\n",
        "print(\"Training accuracy : \", ensemble.score(X_train, y_train))\n",
        "print(\"Testing accuracy : \", ensemble.score(X_test, y_test))\n",
        "matrix_ensemble = ConfusionMatrixDisplay(confusion_matrix(y_train, ensemble_train_pred), display_labels=ensemble.classes_)\n",
        "matrix_ensemble2= ConfusionMatrixDisplay(confusion_matrix(y_test, ensemble_pred), display_labels=ensemble.classes_)\n",
        "matrix_ensemble.plot()\n",
        "plt.show()\n",
        "matrix_ensemble2.plot()\n",
        "plt.show()"
      ],
      "metadata": {
        "colab": {
          "base_uri": "https://localhost:8080/",
          "height": 918
        },
        "id": "NUEOvi9wRWnc",
        "outputId": "01dd16ff-8463-4784-84c0-7313c2834096"
      },
      "execution_count": 17,
      "outputs": [
        {
          "output_type": "stream",
          "name": "stdout",
          "text": [
            "Training accuracy :  0.9783728115345005\n",
            "Testing accuracy :  0.9391810031499879\n"
          ]
        },
        {
          "output_type": "display_data",
          "data": {
            "text/plain": [
              "<Figure size 640x480 with 2 Axes>"
            ],
            "image/png": "[encoded data removed]"
          },
          "metadata": {}
        },
        {
          "output_type": "display_data",
          "data": {
            "text/plain": [
              "<Figure size 640x480 with 2 Axes>"
            ],
            "image/png": "[encoded data removed]"
          },
          "metadata": {}
        }
      ]
    },
    {
      "cell_type": "markdown",
      "source": [
        "### **3. Predicting data (App)**"
      ],
      "metadata": {
        "id": "pEPaPEmdVoMU"
      }
    },
    {
      "cell_type": "code",
      "source": [
        "!pip install google-play-scraper"
      ],
      "metadata": {
        "colab": {
          "base_uri": "https://localhost:8080/"
        },
        "id": "ftMPNG89RWqo",
        "outputId": "1f86fe5e-fa1c-4b6d-ea70-3512e7634d39"
      },
      "execution_count": 18,
      "outputs": [
        {
          "output_type": "stream",
          "name": "stdout",
          "text": [
            "Collecting google-play-scraper\n",
            "  Downloading google_play_scraper-1.2.4-py3-none-any.whl (28 kB)\n",
            "Installing collected packages: google-play-scraper\n",
            "Successfully installed google-play-scraper-1.2.4\n"
          ]
        }
      ]
    },
    {
      "cell_type": "code",
      "source": [
        "from google_play_scraper import Sort, reviews_all\n",
        "import csv"
      ],
      "metadata": {
        "id": "cOebf-0VX3mh"
      },
      "execution_count": 19,
      "outputs": []
    },
    {
      "cell_type": "markdown",
      "source": [
        "**App 1 : ChatGPT**"
      ],
      "metadata": {
        "id": "GENuhCtfYe0G"
      }
    },
    {
      "cell_type": "code",
      "source": [
        "raw_data1 = reviews_all(\n",
        "   'com.openai.chatgpt',\n",
        "   lang='en',\n",
        "   country='us',\n",
        "   sort=Sort.MOST_RELEVANT)"
      ],
      "metadata": {
        "id": "LvLt-cy7RWuG"
      },
      "execution_count": 20,
      "outputs": []
    },
    {
      "cell_type": "code",
      "source": [
        "data_li1 = [(info['content'], info['score']) for info in raw_data1]\n",
        "with open(\"ChatGPT.csv\", 'wt', encoding='utf-8', newline='') as file:\n",
        "  csv_writer = csv.writer(file)\n",
        "  csv_writer.writerow([\"contents\", \"star\"])\n",
        "\n",
        "  for data in data_li1:\n",
        "    csv_writer.writerow(data)"
      ],
      "metadata": {
        "id": "hh-SaI3-RWxC"
      },
      "execution_count": 21,
      "outputs": []
    },
    {
      "cell_type": "code",
      "source": [
        "app1 = pd.read_csv(\"ChatGPT.csv\")\n",
        "app1.drop_duplicates()\n",
        "app1.reset_index(drop=True, inplace=True)\n",
        "app1[\"contents\"] = app1[\"contents\"].apply(preprocessing_text)\n",
        "app1 = app1[app1[\"contents\"] != \"\"]\n",
        "X1 = app1[\"contents\"]\n",
        "X1 = tfidf.transform(X1)"
      ],
      "metadata": {
        "id": "vhCABAAZRWz3"
      },
      "execution_count": 22,
      "outputs": []
    },
    {
      "cell_type": "code",
      "source": [
        "nb_pred1 = nb.predict(X1)\n",
        "rf_pred1 = rf.predict(X1)\n",
        "xgb_pred1 = xgb.predict(X1)\n",
        "ensemble_pred1 = ensemble.predict(X1)\n",
        "\n",
        "print(\"App 1 : ChatGPT\")\n",
        "print(\"Actual       : \", round(sum(app1[\"star\"])/len(app1[\"star\"]),1))\n",
        "print(\"-----------------------------------\")\n",
        "print(\"Naive Bayes  : \", str(sum(nb_pred1)/len(nb_pred1)*4 + 1))\n",
        "print(\"RandomForest : \", str(sum(rf_pred1)/len(rf_pred1)*4 + 1))\n",
        "print(\"XGBoost      : \", str(sum(xgb_pred1)/len(xgb_pred1)*4 + 1))\n",
        "print(\"Ensemble     : \", str(sum(ensemble_pred1)/len(ensemble_pred1)*4 + 1))"
      ],
      "metadata": {
        "colab": {
          "base_uri": "https://localhost:8080/"
        },
        "id": "3AcCGf5oRW2H",
        "outputId": "254a2711-2cec-461c-e7d4-26eae55b69ad"
      },
      "execution_count": 23,
      "outputs": [
        {
          "output_type": "stream",
          "name": "stdout",
          "text": [
            "App 1 : ChatGPT\n",
            "Actual       :  4.4\n",
            "-----------------------------------\n",
            "Naive Bayes  :  3.8472064224656286\n",
            "RandomForest :  3.4771995969707805\n",
            "XGBoost      :  3.555985308934898\n",
            "Ensemble     :  3.727987779113986\n"
          ]
        }
      ]
    },
    {
      "cell_type": "markdown",
      "source": [
        "**App 2 : Viking_Rise**"
      ],
      "metadata": {
        "id": "TIjEWu7RbyYb"
      }
    },
    {
      "cell_type": "code",
      "source": [
        "raw_data2 = reviews_all(\n",
        "   'com.igg.android.vikingriseglobal',\n",
        "   lang='en',\n",
        "   country='us',\n",
        "   sort=Sort.MOST_RELEVANT)"
      ],
      "metadata": {
        "id": "b4rjPPvJagl_"
      },
      "execution_count": 25,
      "outputs": []
    },
    {
      "cell_type": "code",
      "source": [
        "data_li2 = [(info['content'], info['score']) for info in raw_data2]\n",
        "with open(\"Viking_Rise.csv\", 'wt', encoding='utf-8', newline='') as file:\n",
        "  csv_writer = csv.writer(file)\n",
        "  csv_writer.writerow([\"contents\", \"star\"])\n",
        "\n",
        "  for data in data_li2:\n",
        "    csv_writer.writerow(data)"
      ],
      "metadata": {
        "id": "YlcmX1H9agpb"
      },
      "execution_count": 26,
      "outputs": []
    },
    {
      "cell_type": "code",
      "source": [
        "app2 = pd.read_csv(\"Viking_Rise.csv\")\n",
        "app2.drop_duplicates()\n",
        "app2.reset_index(drop=True, inplace=True)\n",
        "app2[\"contents\"] = app2[\"contents\"].apply(preprocessing_text)\n",
        "app2 = app2[app2[\"contents\"] != \"\"]\n",
        "X2 = app2[\"contents\"]\n",
        "X2 = tfidf.transform(X2)"
      ],
      "metadata": {
        "id": "FCUaDtDGahAZ"
      },
      "execution_count": 27,
      "outputs": []
    },
    {
      "cell_type": "code",
      "source": [
        "nb_pred2 = nb.predict(X2)\n",
        "rf_pred2 = rf.predict(X2)\n",
        "xgb_pred2 = xgb.predict(X2)\n",
        "ensemble_pred2 = ensemble.predict(X2)\n",
        "\n",
        "print(\"[App 2] Viking_Rise\")\n",
        "print(\"Actual       : \", round(sum(app2[\"star\"])/len(app2[\"star\"]),1))\n",
        "print(\"-----------------------------------\")\n",
        "print(\"Naive Bayes  : \", str(sum(nb_pred2)/len(nb_pred2)*4 + 1))\n",
        "print(\"RandomForest : \", str(sum(rf_pred2)/len(rf_pred2)*4 + 1))\n",
        "print(\"XGBoost      : \", str(sum(xgb_pred2)/len(xgb_pred2)*4 + 1))\n",
        "print(\"Ensemble     : \", str(sum(ensemble_pred2)/len(ensemble_pred2)*4 + 1))"
      ],
      "metadata": {
        "id": "sLeY1nKPahDf",
        "colab": {
          "base_uri": "https://localhost:8080/"
        },
        "outputId": "89084adb-2fcc-4f66-a3da-dd678686eef3"
      },
      "execution_count": 28,
      "outputs": [
        {
          "output_type": "stream",
          "name": "stdout",
          "text": [
            "[App 2] Viking_Rise\n",
            "Actual       :  4.4\n",
            "-----------------------------------\n",
            "Naive Bayes  :  3.976169461606355\n",
            "RandomForest :  3.5304036791006643\n",
            "XGBoost      :  3.7323825893064524\n",
            "Ensemble     :  3.8652390021833045\n"
          ]
        }
      ]
    },
    {
      "cell_type": "markdown",
      "source": [
        "**App 3 : One_Star_App**"
      ],
      "metadata": {
        "id": "uXrda92mawX-"
      }
    },
    {
      "cell_type": "code",
      "source": [
        "raw_data3 = reviews_all(\n",
        "   'com.curiositycurve.www.theonestarapp',\n",
        "   lang='en',\n",
        "   country='us',\n",
        "   sort=Sort.MOST_RELEVANT)"
      ],
      "metadata": {
        "id": "B08o9UczbGYx"
      },
      "execution_count": 29,
      "outputs": []
    },
    {
      "cell_type": "code",
      "source": [
        "data_li3 = [(info['content'], info['score']) for info in raw_data3]\n",
        "with open(\"One_Star_App.csv\", 'wt', encoding='utf-8', newline='') as file:\n",
        "  csv_writer = csv.writer(file)\n",
        "  csv_writer.writerow([\"contents\", \"star\"])\n",
        "\n",
        "  for data in data_li3:\n",
        "    csv_writer.writerow(data)"
      ],
      "metadata": {
        "id": "ijsU3hoSbJIi"
      },
      "execution_count": 30,
      "outputs": []
    },
    {
      "cell_type": "code",
      "source": [
        "app3 = pd.read_csv(\"One_Star_App.csv\")\n",
        "app3.drop_duplicates()\n",
        "app3.reset_index(drop=True, inplace=True)\n",
        "app3[\"contents\"] = app3[\"contents\"].apply(preprocessing_text)\n",
        "app3 = app3[app3[\"contents\"] != \"\"]\n",
        "X3 = app3[\"contents\"]\n",
        "X3 = tfidf.transform(X3)"
      ],
      "metadata": {
        "id": "zCZOtPXvRW4I"
      },
      "execution_count": 31,
      "outputs": []
    },
    {
      "cell_type": "code",
      "source": [
        "nb_pred3 = nb.predict(X3)\n",
        "rf_pred3 = rf.predict(X3)\n",
        "xgb_pred3 = xgb.predict(X3)\n",
        "ensemble_pred3 = ensemble.predict(X3)\n",
        "\n",
        "print(\"App 3 : One_Star_App\")\n",
        "print(\"Actual       : \", round(sum(app3[\"star\"])/len(app3[\"star\"]),1))\n",
        "print(\"-----------------------------------\")\n",
        "print(\"Naive Bayes  : \", str(sum(nb_pred3)/len(nb_pred3)*4 + 1))\n",
        "print(\"RandomForest : \", str(sum(rf_pred3)/len(rf_pred3)*4 + 1))\n",
        "print(\"XGBoost      : \", str(sum(xgb_pred3)/len(xgb_pred3)*4 + 1))\n",
        "print(\"Ensemble     : \", str(sum(ensemble_pred3)/len(ensemble_pred3)*4 + 1))"
      ],
      "metadata": {
        "colab": {
          "base_uri": "https://localhost:8080/"
        },
        "id": "3OKtlOZ6bdq0",
        "outputId": "046ae909-0359-4981-cca7-1f1bbb9264e7"
      },
      "execution_count": 32,
      "outputs": [
        {
          "output_type": "stream",
          "name": "stdout",
          "text": [
            "App 3 : One_Star_App\n",
            "Actual       :  1.5\n",
            "-----------------------------------\n",
            "Naive Bayes  :  2.0206766917293235\n",
            "RandomForest :  2.0050125313283207\n",
            "XGBoost      :  2.2017543859649122\n",
            "Ensemble     :  1.9918546365914787\n"
          ]
        }
      ]
    },
    {
      "cell_type": "markdown",
      "source": [
        "**App 4 : Bin_File_Opener_Viewer**"
      ],
      "metadata": {
        "id": "ktO0988kcN87"
      }
    },
    {
      "cell_type": "code",
      "source": [
        "raw_data4 = reviews_all(\n",
        "   'bin.file.opener',\n",
        "   lang='en',\n",
        "   country='us',\n",
        "   sort=Sort.MOST_RELEVANT)"
      ],
      "metadata": {
        "id": "iXXYPJFQcXqX"
      },
      "execution_count": 33,
      "outputs": []
    },
    {
      "cell_type": "code",
      "source": [
        "data_li4 = [(info['content'], info['score']) for info in raw_data4]\n",
        "with open(\"Bin_File_Opener_Viewer.csv\", 'wt', encoding='utf-8', newline='') as file:\n",
        "  csv_writer = csv.writer(file)\n",
        "  csv_writer.writerow([\"contents\", \"star\"])\n",
        "\n",
        "  for data in data_li4:\n",
        "    csv_writer.writerow(data)"
      ],
      "metadata": {
        "id": "kwmCUcRFcXnX"
      },
      "execution_count": 34,
      "outputs": []
    },
    {
      "cell_type": "code",
      "source": [
        "app4 = pd.read_csv(\"Bin_File_Opener_Viewer.csv\")\n",
        "app4.drop_duplicates()\n",
        "app4.reset_index(drop=True, inplace=True)\n",
        "app4[\"contents\"] = app4[\"contents\"].apply(preprocessing_text)\n",
        "app4 = app4[app4[\"contents\"] != \"\"]\n",
        "X4 = app4[\"contents\"]\n",
        "X4 = tfidf.transform(X4)"
      ],
      "metadata": {
        "id": "bIvggmz0cXkz"
      },
      "execution_count": 35,
      "outputs": []
    },
    {
      "cell_type": "code",
      "source": [
        "nb_pred4 = nb.predict(X4)\n",
        "rf_pred4 = rf.predict(X4)\n",
        "xgb_pred4 = xgb.predict(X4)\n",
        "ensemble_pred4 = ensemble.predict(X4)\n",
        "\n",
        "print(\"[App 4] Bin_File_Opener_Viewer\")\n",
        "print(\"Actual       : \", round(sum(app4[\"star\"])/len(app4[\"star\"]),1))\n",
        "print(\"-----------------------------------\")\n",
        "print(\"Naive Bayes  : \", str(sum(nb_pred4)/len(nb_pred4)*4 + 1))\n",
        "print(\"RandomForest : \", str(sum(rf_pred4)/len(rf_pred4)*4 + 1))\n",
        "print(\"XGBoost      : \", str(sum(xgb_pred4)/len(xgb_pred4)*4 + 1))\n",
        "print(\"Ensemble     : \", str(sum(ensemble_pred4)/len(ensemble_pred4)*4 + 1))"
      ],
      "metadata": {
        "id": "afpFWVsgcXiH",
        "colab": {
          "base_uri": "https://localhost:8080/"
        },
        "outputId": "62e27864-fb1e-460b-f46b-b7ea562015ec"
      },
      "execution_count": 36,
      "outputs": [
        {
          "output_type": "stream",
          "name": "stdout",
          "text": [
            "[App 4] Bin_File_Opener_Viewer\n",
            "Actual       :  1.7\n",
            "-----------------------------------\n",
            "Naive Bayes  :  1.7644444444444445\n",
            "RandomForest :  1.462222222222222\n",
            "XGBoost      :  1.7111111111111112\n",
            "Ensemble     :  1.5866666666666667\n"
          ]
        }
      ]
    },
    {
      "cell_type": "markdown",
      "source": [
        "**Youtube 1 : Training AI to Play Pokemon with Reinforcement Learning (General Video)**"
      ],
      "metadata": {
        "id": "eEOuuy18mLOr"
      }
    },
    {
      "cell_type": "code",
      "source": [
        "!pip install google-api-python-client"
      ],
      "metadata": {
        "colab": {
          "base_uri": "https://localhost:8080/"
        },
        "id": "Q9G0eC5I4gmN",
        "outputId": "fa56c235-3e0e-4e52-de35-5dc08ca06efe"
      },
      "execution_count": 37,
      "outputs": [
        {
          "output_type": "stream",
          "name": "stdout",
          "text": [
            "Requirement already satisfied: google-api-python-client in /usr/local/lib/python3.10/dist-packages (2.84.0)\n",
            "Requirement already satisfied: httplib2<1dev,>=0.15.0 in /usr/local/lib/python3.10/dist-packages (from google-api-python-client) (0.22.0)\n",
            "Requirement already satisfied: google-auth<3.0.0dev,>=1.19.0 in /usr/local/lib/python3.10/dist-packages (from google-api-python-client) (2.17.3)\n",
            "Requirement already satisfied: google-auth-httplib2>=0.1.0 in /usr/local/lib/python3.10/dist-packages (from google-api-python-client) (0.1.1)\n",
            "Requirement already satisfied: google-api-core!=2.0.*,!=2.1.*,!=2.2.*,!=2.3.0,<3.0.0dev,>=1.31.5 in /usr/local/lib/python3.10/dist-packages (from google-api-python-client) (2.11.1)\n",
            "Requirement already satisfied: uritemplate<5,>=3.0.1 in /usr/local/lib/python3.10/dist-packages (from google-api-python-client) (4.1.1)\n",
            "Requirement already satisfied: googleapis-common-protos<2.0.dev0,>=1.56.2 in /usr/local/lib/python3.10/dist-packages (from google-api-core!=2.0.*,!=2.1.*,!=2.2.*,!=2.3.0,<3.0.0dev,>=1.31.5->google-api-python-client) (1.61.0)\n",
            "Requirement already satisfied: protobuf!=3.20.0,!=3.20.1,!=4.21.0,!=4.21.1,!=4.21.2,!=4.21.3,!=4.21.4,!=4.21.5,<5.0.0.dev0,>=3.19.5 in /usr/local/lib/python3.10/dist-packages (from google-api-core!=2.0.*,!=2.1.*,!=2.2.*,!=2.3.0,<3.0.0dev,>=1.31.5->google-api-python-client) (3.20.3)\n",
            "Requirement already satisfied: requests<3.0.0.dev0,>=2.18.0 in /usr/local/lib/python3.10/dist-packages (from google-api-core!=2.0.*,!=2.1.*,!=2.2.*,!=2.3.0,<3.0.0dev,>=1.31.5->google-api-python-client) (2.31.0)\n",
            "Requirement already satisfied: cachetools<6.0,>=2.0.0 in /usr/local/lib/python3.10/dist-packages (from google-auth<3.0.0dev,>=1.19.0->google-api-python-client) (5.3.1)\n",
            "Requirement already satisfied: pyasn1-modules>=0.2.1 in /usr/local/lib/python3.10/dist-packages (from google-auth<3.0.0dev,>=1.19.0->google-api-python-client) (0.3.0)\n",
            "Requirement already satisfied: six>=1.9.0 in /usr/local/lib/python3.10/dist-packages (from google-auth<3.0.0dev,>=1.19.0->google-api-python-client) (1.16.0)\n",
            "Requirement already satisfied: rsa<5,>=3.1.4 in /usr/local/lib/python3.10/dist-packages (from google-auth<3.0.0dev,>=1.19.0->google-api-python-client) (4.9)\n",
            "Requirement already satisfied: pyparsing!=3.0.0,!=3.0.1,!=3.0.2,!=3.0.3,<4,>=2.4.2 in /usr/local/lib/python3.10/dist-packages (from httplib2<1dev,>=0.15.0->google-api-python-client) (3.1.1)\n",
            "Requirement already satisfied: pyasn1<0.6.0,>=0.4.6 in /usr/local/lib/python3.10/dist-packages (from pyasn1-modules>=0.2.1->google-auth<3.0.0dev,>=1.19.0->google-api-python-client) (0.5.0)\n",
            "Requirement already satisfied: charset-normalizer<4,>=2 in /usr/local/lib/python3.10/dist-packages (from requests<3.0.0.dev0,>=2.18.0->google-api-core!=2.0.*,!=2.1.*,!=2.2.*,!=2.3.0,<3.0.0dev,>=1.31.5->google-api-python-client) (3.3.0)\n",
            "Requirement already satisfied: idna<4,>=2.5 in /usr/local/lib/python3.10/dist-packages (from requests<3.0.0.dev0,>=2.18.0->google-api-core!=2.0.*,!=2.1.*,!=2.2.*,!=2.3.0,<3.0.0dev,>=1.31.5->google-api-python-client) (3.4)\n",
            "Requirement already satisfied: urllib3<3,>=1.21.1 in /usr/local/lib/python3.10/dist-packages (from requests<3.0.0.dev0,>=2.18.0->google-api-core!=2.0.*,!=2.1.*,!=2.2.*,!=2.3.0,<3.0.0dev,>=1.31.5->google-api-python-client) (2.0.7)\n",
            "Requirement already satisfied: certifi>=2017.4.17 in /usr/local/lib/python3.10/dist-packages (from requests<3.0.0.dev0,>=2.18.0->google-api-core!=2.0.*,!=2.1.*,!=2.2.*,!=2.3.0,<3.0.0dev,>=1.31.5->google-api-python-client) (2023.7.22)\n"
          ]
        }
      ]
    },
    {
      "cell_type": "code",
      "source": [
        "from googleapiclient.discovery import build\n",
        "import pandas as pd\n",
        "def save_youtube_comment(file_name, data_frame):\n",
        "    df2 = pd.DataFrame(comments, columns=[\"contents\"])\n",
        "    df2.to_csv(file_name, header=['contents'], index=None)"
      ],
      "metadata": {
        "id": "kAyyOpCw4mRj"
      },
      "execution_count": 38,
      "outputs": []
    },
    {
      "cell_type": "code",
      "source": [
        "api_key=\"...\" # 개인 정보\n",
        "comments = list()\n",
        "api_obj = build('youtube', 'v3', developerKey=api_key)\n",
        "response = api_obj.commentThreads().list(part='snippet,replies', videoId=\"DcYLT37ImBY\", maxResults=100).execute()\n",
        "\n",
        "while response:\n",
        "    for item in response['items']:\n",
        "        comment = item['snippet']['topLevelComment']['snippet']\n",
        "        comments.append([comment['textDisplay']])\n",
        "\n",
        "    if 'nextPageToken' in response:\n",
        "        response = api_obj.commentThreads().list(part='snippet,replies', videoId=\"DcYLT37ImBY\", pageToken=response['nextPageToken'], maxResults=100).execute()\n",
        "\n",
        "    else:\n",
        "        break\n",
        "\n",
        "save_youtube_comment('youtube_general_1.csv', comments)"
      ],
      "metadata": {
        "id": "HeF4QjSh4p96"
      },
      "execution_count": 39,
      "outputs": []
    },
    {
      "cell_type": "code",
      "source": [
        "youtube_positive = pd.read_csv(\"youtube_general_1.csv\")\n",
        "youtube_positive.drop_duplicates()\n",
        "youtube_positive.reset_index(drop=True, inplace=True)\n",
        "youtube_positive[\"contents\"] = youtube_positive[\"contents\"].apply(preprocessing_text)\n",
        "youtube_positive = youtube_positive[youtube_positive[\"contents\"] != \"\"]\n",
        "X5 = youtube_positive[\"contents\"]\n",
        "X5 = tfidf.transform(X5)"
      ],
      "metadata": {
        "id": "-Ox0ztmXmaHY"
      },
      "execution_count": 40,
      "outputs": []
    },
    {
      "cell_type": "code",
      "source": [
        "nb_pred5 = nb.predict(X5)\n",
        "rf_pred5 = rf.predict(X5)\n",
        "xgb_pred5 = xgb.predict(X5)\n",
        "ensemble_pred5 = ensemble.predict(X5)\n",
        "\n",
        "print(\"[Youtube] Training AI to Play Pokemon with Reinforcement Learning\")\n",
        "print(\"https://www.youtube.com/watch?v=DcYLT37ImBY\")\n",
        "print(\"-----------------------------------\")\n",
        "print(\"Naive Bayes  : \", str(sum(nb_pred5)/len(nb_pred5)*4 + 1))\n",
        "print(\"RandomForest : \", str(sum(rf_pred5)/len(rf_pred5)*4 + 1))\n",
        "print(\"XGBoost      : \", str(sum(xgb_pred5)/len(xgb_pred5)*4 + 1))\n",
        "print(\"Ensemble     : \", str(sum(ensemble_pred5)/len(ensemble_pred5)*4 + 1))"
      ],
      "metadata": {
        "colab": {
          "base_uri": "https://localhost:8080/"
        },
        "id": "B0BqoqR8nQdp",
        "outputId": "5b5e63dc-643e-46cc-c744-ad42cfd38093"
      },
      "execution_count": 41,
      "outputs": [
        {
          "output_type": "stream",
          "name": "stdout",
          "text": [
            "[Youtube] Training AI to Play Pokemon with Reinforcement Learning\n",
            "https://www.youtube.com/watch?v=DcYLT37ImBY\n",
            "-----------------------------------\n",
            "Naive Bayes  :  3.7417913347581115\n",
            "RandomForest :  3.1418301923450556\n",
            "XGBoost      :  2.983291237614144\n",
            "Ensemble     :  3.329123761414416\n"
          ]
        }
      ]
    },
    {
      "cell_type": "markdown",
      "source": [
        "**Youtube 2 : Reinforcement Learning from scratch (General Video)**"
      ],
      "metadata": {
        "id": "bw5q5B5P5QfN"
      }
    },
    {
      "cell_type": "code",
      "source": [
        "comments = list()\n",
        "api_obj = build('youtube', 'v3', developerKey=api_key)\n",
        "response = api_obj.commentThreads().list(part='snippet,replies', videoId=\"vXtfdGphr3c\", maxResults=100).execute()\n",
        "\n",
        "while response:\n",
        "    for item in response['items']:\n",
        "        comment = item['snippet']['topLevelComment']['snippet']\n",
        "        comments.append([comment['textDisplay']])\n",
        "\n",
        "    if 'nextPageToken' in response:\n",
        "        response = api_obj.commentThreads().list(part='snippet,replies', videoId=\"vXtfdGphr3c\", pageToken=response['nextPageToken'], maxResults=100).execute()\n",
        "\n",
        "    else:\n",
        "        break\n",
        "\n",
        "save_youtube_comment('youtube_general_2.csv', comments)"
      ],
      "metadata": {
        "id": "80niZVhu6Emb"
      },
      "execution_count": 42,
      "outputs": []
    },
    {
      "cell_type": "code",
      "source": [
        "youtube_positive = pd.read_csv(\"youtube_general_2.csv\")\n",
        "youtube_positive.drop_duplicates()\n",
        "youtube_positive.reset_index(drop=True, inplace=True)\n",
        "youtube_positive[\"contents\"] = youtube_positive[\"contents\"].apply(preprocessing_text)\n",
        "youtube_positive = youtube_positive[youtube_positive[\"contents\"] != \"\"]\n",
        "X5 = youtube_positive[\"contents\"]\n",
        "X5 = tfidf.transform(X5)"
      ],
      "metadata": {
        "id": "CatuE9cA6M3T"
      },
      "execution_count": 43,
      "outputs": []
    },
    {
      "cell_type": "code",
      "source": [
        "nb_pred5 = nb.predict(X5)\n",
        "rf_pred5 = rf.predict(X5)\n",
        "xgb_pred5 = xgb.predict(X5)\n",
        "ensemble_pred5 = ensemble.predict(X5)\n",
        "\n",
        "print(\"[Youtube] Reinforcement Learning from scratch\")\n",
        "print(\"https://www.youtube.com/watch?v=vXtfdGphr3c\")\n",
        "print(\"-----------------------------------\")\n",
        "print(\"Naive Bayes  : \", str(sum(nb_pred5)/len(nb_pred5)*4 + 1))\n",
        "print(\"RandomForest : \", str(sum(rf_pred5)/len(rf_pred5)*4 + 1))\n",
        "print(\"XGBoost      : \", str(sum(xgb_pred5)/len(xgb_pred5)*4 + 1))\n",
        "print(\"Ensemble     : \", str(sum(ensemble_pred5)/len(ensemble_pred5)*4 + 1))"
      ],
      "metadata": {
        "colab": {
          "base_uri": "https://localhost:8080/"
        },
        "id": "2BCQt0-t6REx",
        "outputId": "8e248ab6-14f2-4c1b-8ea9-d73960aaacf2"
      },
      "execution_count": 44,
      "outputs": [
        {
          "output_type": "stream",
          "name": "stdout",
          "text": [
            "[Youtube] Reinforcement Learning from scratch\n",
            "https://www.youtube.com/watch?v=vXtfdGphr3c\n",
            "-----------------------------------\n",
            "Naive Bayes  :  4.428571428571429\n",
            "RandomForest :  4.428571428571429\n",
            "XGBoost      :  4.428571428571429\n",
            "Ensemble     :  4.714285714285714\n"
          ]
        }
      ]
    },
    {
      "cell_type": "markdown",
      "source": [
        "**Youtube 3 : Israel intensifies retaliation after massive Hamas terror attack (Negative Video)**\n"
      ],
      "metadata": {
        "id": "iJWhxrb-ooD2"
      }
    },
    {
      "cell_type": "code",
      "source": [
        "comments = list()\n",
        "api_obj = build('youtube', 'v3', developerKey=api_key)\n",
        "response = api_obj.commentThreads().list(part='snippet,replies', videoId=\"SZ6G6MWe6IQ\", maxResults=100).execute()\n",
        "\n",
        "while response:\n",
        "    for item in response['items']:\n",
        "        comment = item['snippet']['topLevelComment']['snippet']\n",
        "        comments.append([comment['textDisplay']])\n",
        "\n",
        "    if 'nextPageToken' in response:\n",
        "        response = api_obj.commentThreads().list(part='snippet,replies', videoId=\"SZ6G6MWe6IQ\", pageToken=response['nextPageToken'], maxResults=100).execute()\n",
        "\n",
        "    else:\n",
        "        break\n",
        "\n",
        "save_youtube_comment('youtube_negative_1.csv', comments)"
      ],
      "metadata": {
        "id": "opgvZYjR5EIO"
      },
      "execution_count": 45,
      "outputs": []
    },
    {
      "cell_type": "code",
      "source": [
        "youtube_negative = pd.read_csv(\"youtube_negative_1.csv\")\n",
        "youtube_negative.drop_duplicates()\n",
        "youtube_negative.reset_index(drop=True, inplace=True)\n",
        "youtube_negative[\"contents\"] = youtube_negative[\"contents\"].apply(preprocessing_text)\n",
        "youtube_negative = youtube_negative[youtube_negative[\"contents\"] != \"\"]\n",
        "X6 = youtube_negative[\"contents\"]\n",
        "X6 = tfidf.transform(X6)"
      ],
      "metadata": {
        "id": "PDxyy6b1oBPw"
      },
      "execution_count": 46,
      "outputs": []
    },
    {
      "cell_type": "code",
      "source": [
        "nb_pred6 = nb.predict(X6)\n",
        "rf_pred6 = rf.predict(X6)\n",
        "xgb_pred6 = xgb.predict(X6)\n",
        "ensemble_pred6 = ensemble.predict(X6)\n",
        "\n",
        "print(\"[Youtube] Israel intensifies retaliation after massive Hamas terror attack\")\n",
        "print(\"https://www.youtube.com/watch?v=SZ6G6MWe6IQ&t=57s\")\n",
        "print(\"-----------------------------------\")\n",
        "print(\"Naive Bayes  : \", str(sum(nb_pred6)/len(nb_pred6)*4 + 1))\n",
        "print(\"RandomForest : \", str(sum(rf_pred6)/len(rf_pred6)*4 + 1))\n",
        "print(\"XGBoost      : \", str(sum(xgb_pred6)/len(xgb_pred6)*4 + 1))\n",
        "print(\"Ensemble     : \", str(sum(ensemble_pred6)/len(ensemble_pred6)*4 + 1))"
      ],
      "metadata": {
        "colab": {
          "base_uri": "https://localhost:8080/"
        },
        "id": "X1NQwU-7ojr4",
        "outputId": "d8608ef6-ce5d-49d9-cd59-e943b164be41"
      },
      "execution_count": 47,
      "outputs": [
        {
          "output_type": "stream",
          "name": "stdout",
          "text": [
            "[Youtube] Israel intensifies retaliation after massive Hamas terror attack\n",
            "https://www.youtube.com/watch?v=SZ6G6MWe6IQ&t=57s\n",
            "-----------------------------------\n",
            "Naive Bayes  :  2.4986945169712795\n",
            "RandomForest :  1.8263707571801566\n",
            "XGBoost      :  1.7754569190600522\n",
            "Ensemble     :  1.9817232375979112\n"
          ]
        }
      ]
    },
    {
      "cell_type": "markdown",
      "source": [
        "**Youtube 4 : Retired colonel walks through 'big problems' of Ukraine's counteroffensive (Negative Video)**"
      ],
      "metadata": {
        "id": "5JXSFp1C8S4x"
      }
    },
    {
      "cell_type": "code",
      "source": [
        "comments = list()\n",
        "api_obj = build('youtube', 'v3', developerKey=api_key)\n",
        "response = api_obj.commentThreads().list(part='snippet,replies', videoId=\"B6FGpOIwCyA\", maxResults=100).execute()\n",
        "\n",
        "while response:\n",
        "    for item in response['items']:\n",
        "        comment = item['snippet']['topLevelComment']['snippet']\n",
        "        comments.append([comment['textDisplay']])\n",
        "\n",
        "    if 'nextPageToken' in response:\n",
        "        response = api_obj.commentThreads().list(part='snippet,replies', videoId=\"B6FGpOIwCyA\", pageToken=response['nextPageToken'], maxResults=100).execute()\n",
        "\n",
        "    else:\n",
        "        break\n",
        "\n",
        "save_youtube_comment('youtube_negative_2.csv', comments)"
      ],
      "metadata": {
        "id": "tkpDJ5b68XSt"
      },
      "execution_count": 48,
      "outputs": []
    },
    {
      "cell_type": "code",
      "source": [
        "youtube_negative = pd.read_csv(\"youtube_negative_2.csv\")\n",
        "youtube_negative.drop_duplicates()\n",
        "youtube_negative.reset_index(drop=True, inplace=True)\n",
        "youtube_negative[\"contents\"] = youtube_negative[\"contents\"].apply(preprocessing_text)\n",
        "youtube_negative = youtube_negative[youtube_negative[\"contents\"] != \"\"]\n",
        "X6 = youtube_negative[\"contents\"]\n",
        "X6 = tfidf.transform(X6)"
      ],
      "metadata": {
        "id": "ex_XIFLr8odZ"
      },
      "execution_count": 49,
      "outputs": []
    },
    {
      "cell_type": "code",
      "source": [
        "nb_pred6 = nb.predict(X6)\n",
        "rf_pred6 = rf.predict(X6)\n",
        "xgb_pred6 = xgb.predict(X6)\n",
        "ensemble_pred6 = ensemble.predict(X6)\n",
        "\n",
        "print(\"[Youtube] Retired colonel walks through 'big problems' of Ukraine's counteroffensive\")\n",
        "print(\"https://www.youtube.com/watch?v=B6FGpOIwCyA\")\n",
        "print(\"-----------------------------------\")\n",
        "print(\"Naive Bayes  : \", str(sum(nb_pred6)/len(nb_pred6)*4 + 1))\n",
        "print(\"RandomForest : \", str(sum(rf_pred6)/len(rf_pred6)*4 + 1))\n",
        "print(\"XGBoost      : \", str(sum(xgb_pred6)/len(xgb_pred6)*4 + 1))\n",
        "print(\"Ensemble     : \", str(sum(ensemble_pred6)/len(ensemble_pred6)*4 + 1))"
      ],
      "metadata": {
        "colab": {
          "base_uri": "https://localhost:8080/"
        },
        "id": "1xXDNyNI8qSq",
        "outputId": "c2e92718-d343-4b93-d530-6751b98e42a8"
      },
      "execution_count": 50,
      "outputs": [
        {
          "output_type": "stream",
          "name": "stdout",
          "text": [
            "[Youtube] Retired colonel walks through 'big problems' of Ukraine's counteroffensive\n",
            "https://www.youtube.com/watch?v=B6FGpOIwCyA\n",
            "-----------------------------------\n",
            "Naive Bayes  :  2.3373737373737375\n",
            "RandomForest :  1.791919191919192\n",
            "XGBoost      :  1.8646464646464647\n",
            "Ensemble     :  1.9292929292929293\n"
          ]
        }
      ]
    }
  ],
  "metadata": {
    "colab": {
      "provenance": [],
      "gpuType": "T4"
    },
    "kernelspec": {
      "display_name": "Python 3",
      "name": "python3"
    },
    "language_info": {
      "name": "python"
    },
    "accelerator": "GPU"
  },
  "nbformat": 4,
  "nbformat_minor": 0
}
